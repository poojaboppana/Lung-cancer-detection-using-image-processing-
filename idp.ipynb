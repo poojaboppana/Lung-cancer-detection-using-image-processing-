# Import necessary libraries
from google.colab import drive
import os
import numpy as np
import cv2
from skimage.feature import hog
from sklearn.svm import SVC
from sklearn.metrics import accuracy_score, classification_report
from sklearn.model_selection import train_test_split
from sklearn.preprocessing import LabelEncoder
import matplotlib.pyplot as plt

# Mount Google Drive to access the dataset
drive.mount('/content/drive')

# Paths
train_dir = '/content/drive/MyDrive/lung_cancer_dataset/train_dir'

# Function to extract HOG features from an image (convert to grayscale)
def extract_hog_features(image):
    gray_image = cv2.cvtColor(image, cv2.COLOR_BGR2GRAY)  # Convert image to grayscale
    resized_image = cv2.resize(gray_image, (128, 128))  # Resize image to 128x128
    hog_features, _ = hog(resized_image, orientations=9, pixels_per_cell=(8, 8),
                          cells_per_block=(2, 2), visualize=True)
    return hog_features

# Function to load images and their labels
def load_images_and_labels(directory):
    images = []
    labels = []
    class_folders = os.listdir(directory)

    for class_name in class_folders:
        class_path = os.path.join(directory, class_name)
        image_files = os.listdir(class_path)

        for image_file in image_files:
            img_path = os.path.join(class_path, image_file)
            image = cv2.imread(img_path)  # Load image
            if image is not None:
                images.append(extract_hog_features(image))  # Extract HOG features
                labels.append(class_name)

    return np.array(images), np.array(labels)

# Load dataset
X, y = load_images_and_labels(train_dir)

# Encode labels
label_encoder = LabelEncoder()
y_encoded = label_encoder.fit_transform(y)

# Split dataset into training and testing sets
X_train, X_test, y_train, y_test = train_test_split(X, y_encoded, test_size=0.2, random_state=42)

# Define and train the SVM model
svm_model = SVC(kernel='linear', probability=True)
svm_model.fit(X_train, y_train)

# Predict on test data
y_pred = svm_model.predict(X_test)

# Evaluate performance
accuracy = accuracy_score(y_test, y_pred)
print(f"Accuracy: {accuracy * 100:.2f}%")  # Display accuracy in percentage
print(classification_report(y_test, y_pred, target_names=label_encoder.classes_))

# Function to predict lung cancer using SVM
def predict_lung_cancer_svm(img_path):
    image = cv2.imread(img_path)
    if image is not None:
        hog_features = extract_hog_features(image).reshape(1, -1)  # Extract HOG features
        prediction = svm_model.predict(hog_features)
        predicted_class = label_encoder.inverse_transform(prediction)[0]

        # Interpret result
        if predicted_class == 'malignant':
            return predicted_class, "The person is likely to have lung cancer.", image
        else:
            return predicted_class, "The person is unlikely to have lung cancer.", image
    else:
        return None, "Image not found.", None

# Load a random image from the dataset and predict
def load_random_image_from_dataset():
    class_folders = os.listdir(train_dir)
    class_name = np.random.choice(class_folders)  # Select a random class
    class_path = os.path.join(train_dir, class_name)
    image_files = os.listdir(class_path)

    if not image_files:
        return None, None

    image_file = np.random.choice(image_files)  # Select a random image
    img_path = os.path.join(class_path, image_file)

    return img_path, class_name

# Load a random image from the dataset and predict
img_path, class_name = load_random_image_from_dataset()

if img_path:
    # Predict using SVM
    predicted_label, message, predicted_image = predict_lung_cancer_svm(img_path)

    # Output results
    print(f"Predicted Class: {predicted_label}")
    print(message)

    # Display the predicted image
    if predicted_image is not None:
        plt.imshow(cv2.cvtColor(predicted_image, cv2.COLOR_BGR2RGB))
        plt.axis('off')  # Hide axis
        plt.show()
else:
    print("No images found in the selected class directory.")
